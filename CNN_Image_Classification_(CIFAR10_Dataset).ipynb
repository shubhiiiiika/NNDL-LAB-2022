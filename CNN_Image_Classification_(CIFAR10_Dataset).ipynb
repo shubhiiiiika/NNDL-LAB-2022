{
  "nbformat": 4,
  "nbformat_minor": 0,
  "metadata": {
    "colab": {
      "name": "CNN Image Classification (CIFAR10 Dataset).ipynb",
      "provenance": [],
      "collapsed_sections": [],
      "authorship_tag": "ABX9TyO0FpaW4e2DqRZjYbEYQ73o",
      "include_colab_link": true
    },
    "kernelspec": {
      "name": "python3",
      "display_name": "Python 3"
    },
    "language_info": {
      "name": "python"
    }
  },
  "cells": [
    {
      "cell_type": "markdown",
      "metadata": {
        "id": "view-in-github",
        "colab_type": "text"
      },
      "source": [
        "<a href=\"https://colab.research.google.com/github/shubhiiiiika/NNDL-LAB-2022/blob/main/CNN_Image_Classification_(CIFAR10_Dataset).ipynb\" target=\"_parent\"><img src=\"https://colab.research.google.com/assets/colab-badge.svg\" alt=\"Open In Colab\"/></a>"
      ]
    },
    {
      "cell_type": "code",
      "execution_count": 1,
      "metadata": {
        "id": "A7mpu_bIMcei"
      },
      "outputs": [],
      "source": [
        "import tensorflow as tf\n",
        "from tensorflow.keras import datasets, layers, models\n",
        "import matplotlib.pyplot as plt\n",
        "import numpy as np"
      ]
    },
    {
      "cell_type": "code",
      "source": [
        "(X_train, y_train), (X_test,y_test) = datasets.cifar10.load_data()\n",
        "X_train.shape"
      ],
      "metadata": {
        "id": "MQTqKhPEOSb8",
        "colab": {
          "base_uri": "https://localhost:8080/"
        },
        "outputId": "e25e9dc6-23bf-4193-b03b-5beb600e97d3"
      },
      "execution_count": 4,
      "outputs": [
        {
          "output_type": "stream",
          "name": "stdout",
          "text": [
            "Downloading data from https://www.cs.toronto.edu/~kriz/cifar-10-python.tar.gz\n",
            "170500096/170498071 [==============================] - 6s 0us/step\n",
            "170508288/170498071 [==============================] - 6s 0us/step\n"
          ]
        },
        {
          "output_type": "execute_result",
          "data": {
            "text/plain": [
              "(50000, 32, 32, 3)"
            ]
          },
          "metadata": {},
          "execution_count": 4
        }
      ]
    },
    {
      "cell_type": "code",
      "source": [
        "y_test.shape"
      ],
      "metadata": {
        "id": "XcLbCYQFOSeR",
        "colab": {
          "base_uri": "https://localhost:8080/"
        },
        "outputId": "96473f87-76b1-43b8-df3f-0aefe0122d63"
      },
      "execution_count": 5,
      "outputs": [
        {
          "output_type": "execute_result",
          "data": {
            "text/plain": [
              "(10000, 1)"
            ]
          },
          "metadata": {},
          "execution_count": 5
        }
      ]
    },
    {
      "cell_type": "code",
      "source": [
        "X_test.shape"
      ],
      "metadata": {
        "id": "oE1jkrOsOSgv",
        "colab": {
          "base_uri": "https://localhost:8080/"
        },
        "outputId": "cf164458-8543-4b53-cd51-b4ab85921fb7"
      },
      "execution_count": 6,
      "outputs": [
        {
          "output_type": "execute_result",
          "data": {
            "text/plain": [
              "(10000, 32, 32, 3)"
            ]
          },
          "metadata": {},
          "execution_count": 6
        }
      ]
    },
    {
      "cell_type": "code",
      "source": [
        "y_train.shape"
      ],
      "metadata": {
        "id": "eFEwOkSLOwjK",
        "colab": {
          "base_uri": "https://localhost:8080/"
        },
        "outputId": "45b8d1fd-8334-495a-a373-95412bf26ebe"
      },
      "execution_count": 7,
      "outputs": [
        {
          "output_type": "execute_result",
          "data": {
            "text/plain": [
              "(50000, 1)"
            ]
          },
          "metadata": {},
          "execution_count": 7
        }
      ]
    },
    {
      "cell_type": "code",
      "source": [
        "y_train[:5]"
      ],
      "metadata": {
        "id": "9UOMg7tEOwln",
        "colab": {
          "base_uri": "https://localhost:8080/"
        },
        "outputId": "a46c0f88-f47b-4426-f874-10f5dea26f84"
      },
      "execution_count": 8,
      "outputs": [
        {
          "output_type": "execute_result",
          "data": {
            "text/plain": [
              "array([[6],\n",
              "       [9],\n",
              "       [9],\n",
              "       [4],\n",
              "       [1]], dtype=uint8)"
            ]
          },
          "metadata": {},
          "execution_count": 8
        }
      ]
    },
    {
      "cell_type": "code",
      "source": [
        "y_train = y_train.reshape(-1,)\n",
        "y_train[:5]"
      ],
      "metadata": {
        "id": "EZNCdPCyOwqv",
        "colab": {
          "base_uri": "https://localhost:8080/"
        },
        "outputId": "c69e0f82-a278-49d5-cb1c-7823fae992da"
      },
      "execution_count": 9,
      "outputs": [
        {
          "output_type": "execute_result",
          "data": {
            "text/plain": [
              "array([6, 9, 9, 4, 1], dtype=uint8)"
            ]
          },
          "metadata": {},
          "execution_count": 9
        }
      ]
    },
    {
      "cell_type": "code",
      "source": [
        "#Changing 2D array into 1D array.\n",
        "y_test = y_test.reshape(-1,)"
      ],
      "metadata": {
        "id": "az5wZ0byPNNN"
      },
      "execution_count": 10,
      "outputs": []
    },
    {
      "cell_type": "code",
      "source": [
        "#Creating of all the categories in dataset, this helps in labeling the images.\n",
        "classes = [\"airplane\",\"automobile\",\"bird\",\"cat\",\"deer\",\"dog\",\"frog\",\"horse\",\"ship\",\"truck\"]"
      ],
      "metadata": {
        "id": "K4ZAbX0GPNP4"
      },
      "execution_count": 11,
      "outputs": []
    },
    {
      "cell_type": "code",
      "source": [
        "#Function to lot image on a graph\n",
        "def plot_sample(X, y, index):\n",
        "    plt.figure(figsize = (15,2))\n",
        "    plt.imshow(X[index])\n",
        "    plt.xlabel(classes[y[index]])"
      ],
      "metadata": {
        "id": "n0H3UHTUPNSp"
      },
      "execution_count": 12,
      "outputs": []
    },
    {
      "cell_type": "code",
      "source": [
        "plot_sample(X_train, y_train, 0)"
      ],
      "metadata": {
        "id": "6xLQ-WiHPNfC",
        "colab": {
          "base_uri": "https://localhost:8080/",
          "height": 173
        },
        "outputId": "095a7711-587d-4973-bfd4-64249f55b54e"
      },
      "execution_count": 13,
      "outputs": [
        {
          "output_type": "display_data",
          "data": {
            "text/plain": [
              "<Figure size 1080x144 with 1 Axes>"
            ],
            "image/png": "[encoded data removed]"
          },
          "metadata": {
            "needs_background": "light"
          }
        }
      ]
    },
    {
      "cell_type": "code",
      "source": [
        "plot_sample(X_train, y_train, 1)"
      ],
      "metadata": {
        "id": "mBJ3jMRARCLC",
        "colab": {
          "base_uri": "https://localhost:8080/",
          "height": 173
        },
        "outputId": "20f74531-e255-4ed0-f4c2-76fc5003509b"
      },
      "execution_count": 14,
      "outputs": [
        {
          "output_type": "display_data",
          "data": {
            "text/plain": [
              "<Figure size 1080x144 with 1 Axes>"
            ],
            "image/png": "[encoded data removed]"
          },
          "metadata": {
            "needs_background": "light"
          }
        }
      ]
    },
    {
      "cell_type": "code",
      "source": [
        "#Normalising into 0 to 1 range\n",
        "#Dividing by 255 because pixel value ranges from 0 - 255 for each channel (rgb)\n",
        "X_train = X_train / 255.0\n",
        "X_test = X_test / 255.0\n"
      ],
      "metadata": {
        "id": "td7qa7iKRCaK"
      },
      "execution_count": 15,
      "outputs": []
    },
    {
      "cell_type": "code",
      "source": [
        "#Building the Model\n",
        "ann = models.Sequential([\n",
        "        layers.Flatten(input_shape=(32,32,3)),\n",
        "        layers.Dense(3000, activation='relu'),\n",
        "        layers.Dense(1000, activation='relu'),\n",
        "        layers.Dense(10, activation='softmax')    \n",
        "    ])\n",
        "\n",
        "ann.compile(optimizer='SGD',\n",
        "              loss='sparse_categorical_crossentropy',\n",
        "              metrics=['accuracy'])\n",
        "\n",
        "ann.fit(X_train, y_train, epochs=5)"
      ],
      "metadata": {
        "id": "BnJuZcnpRChu",
        "colab": {
          "base_uri": "https://localhost:8080/"
        },
        "outputId": "05592349-c5d0-4090-b574-c785a3190686"
      },
      "execution_count": 16,
      "outputs": [
        {
          "output_type": "stream",
          "name": "stdout",
          "text": [
            "Epoch 1/5\n",
            "1563/1563 [==============================] - 105s 67ms/step - loss: 1.8125 - accuracy: 0.3554\n",
            "Epoch 2/5\n",
            "1563/1563 [==============================] - 97s 62ms/step - loss: 1.6238 - accuracy: 0.4269\n",
            "Epoch 3/5\n",
            "1563/1563 [==============================] - 97s 62ms/step - loss: 1.5406 - accuracy: 0.4577\n",
            "Epoch 4/5\n",
            "1563/1563 [==============================] - 98s 63ms/step - loss: 1.4815 - accuracy: 0.4765\n",
            "Epoch 5/5\n",
            "1563/1563 [==============================] - 101s 65ms/step - loss: 1.4310 - accuracy: 0.4953\n"
          ]
        },
        {
          "output_type": "execute_result",
          "data": {
            "text/plain": [
              "<keras.callbacks.History at 0x7fc7c9b85590>"
            ]
          },
          "metadata": {},
          "execution_count": 16
        }
      ]
    },
    {
      "cell_type": "code",
      "source": [
        "from sklearn.metrics import confusion_matrix , classification_report\n",
        "import numpy as np\n",
        "y_pred = ann.predict(X_test)\n",
        "y_pred_classes = [np.argmax(element) for element in y_pred]\n",
        "\n",
        "print(\"Classification Report: \\n\", classification_report(y_test, y_pred_classes))"
      ],
      "metadata": {
        "id": "PEgpXEWnPNhv",
        "colab": {
          "base_uri": "https://localhost:8080/"
        },
        "outputId": "d5604a49-1e10-4449-90b2-2caa4cfae2b5"
      },
      "execution_count": 17,
      "outputs": [
        {
          "output_type": "stream",
          "name": "stdout",
          "text": [
            "Classification Report: \n",
            "               precision    recall  f1-score   support\n",
            "\n",
            "           0       0.63      0.45      0.52      1000\n",
            "           1       0.65      0.56      0.60      1000\n",
            "           2       0.36      0.41      0.38      1000\n",
            "           3       0.35      0.40      0.37      1000\n",
            "           4       0.46      0.37      0.41      1000\n",
            "           5       0.44      0.32      0.37      1000\n",
            "           6       0.58      0.48      0.53      1000\n",
            "           7       0.57      0.54      0.56      1000\n",
            "           8       0.53      0.69      0.60      1000\n",
            "           9       0.46      0.69      0.55      1000\n",
            "\n",
            "    accuracy                           0.49     10000\n",
            "   macro avg       0.50      0.49      0.49     10000\n",
            "weighted avg       0.50      0.49      0.49     10000\n",
            "\n"
          ]
        }
      ]
    },
    {
      "cell_type": "code",
      "source": [
        "cnn = models.Sequential([\n",
        "    layers.Conv2D(filters=32, kernel_size=(3, 3), activation='relu', input_shape=(32, 32, 3)),\n",
        "    layers.MaxPooling2D((2, 2)),\n",
        "    \n",
        "    layers.Conv2D(filters=64, kernel_size=(3, 3), activation='relu'),\n",
        "    layers.MaxPooling2D((2, 2)),\n",
        "    \n",
        "    layers.Flatten(),\n",
        "    layers.Dense(64, activation='relu'),\n",
        "    layers.Dense(10, activation='softmax')\n",
        "])"
      ],
      "metadata": {
        "id": "wO7CsYuhR5dc"
      },
      "execution_count": 18,
      "outputs": []
    },
    {
      "cell_type": "code",
      "source": [
        "cnn.compile(optimizer='adam',\n",
        "              loss='sparse_categorical_crossentropy',\n",
        "              metrics=['accuracy'])"
      ],
      "metadata": {
        "id": "qazgZCK9SUlC"
      },
      "execution_count": 19,
      "outputs": []
    },
    {
      "cell_type": "code",
      "source": [
        "cnn.fit(X_train, y_train, epochs=10)"
      ],
      "metadata": {
        "id": "HHp7WG31R5iJ",
        "colab": {
          "base_uri": "https://localhost:8080/"
        },
        "outputId": "0327537e-fac9-4e81-c0ac-9e15869f3b42"
      },
      "execution_count": 20,
      "outputs": [
        {
          "output_type": "stream",
          "name": "stdout",
          "text": [
            "Epoch 1/10\n",
            "1563/1563 [==============================] - 61s 39ms/step - loss: 1.4576 - accuracy: 0.4762\n",
            "Epoch 2/10\n",
            "1563/1563 [==============================] - 61s 39ms/step - loss: 1.1108 - accuracy: 0.6103\n",
            "Epoch 3/10\n",
            "1563/1563 [==============================] - 61s 39ms/step - loss: 0.9965 - accuracy: 0.6518\n",
            "Epoch 4/10\n",
            "1563/1563 [==============================] - 60s 39ms/step - loss: 0.9174 - accuracy: 0.6784\n",
            "Epoch 5/10\n",
            "1563/1563 [==============================] - 61s 39ms/step - loss: 0.8637 - accuracy: 0.6978\n",
            "Epoch 6/10\n",
            "1563/1563 [==============================] - 60s 39ms/step - loss: 0.8134 - accuracy: 0.7171\n",
            "Epoch 7/10\n",
            "1563/1563 [==============================] - 60s 38ms/step - loss: 0.7681 - accuracy: 0.7333\n",
            "Epoch 8/10\n",
            "1563/1563 [==============================] - 60s 39ms/step - loss: 0.7306 - accuracy: 0.7453\n",
            "Epoch 9/10\n",
            "1563/1563 [==============================] - 60s 38ms/step - loss: 0.6935 - accuracy: 0.7572\n",
            "Epoch 10/10\n",
            "1563/1563 [==============================] - 60s 38ms/step - loss: 0.6584 - accuracy: 0.7689\n"
          ]
        },
        {
          "output_type": "execute_result",
          "data": {
            "text/plain": [
              "<keras.callbacks.History at 0x7fc7c62e29d0>"
            ]
          },
          "metadata": {},
          "execution_count": 20
        }
      ]
    },
    {
      "cell_type": "code",
      "source": [
        "cnn.evaluate(X_test,y_test)"
      ],
      "metadata": {
        "id": "M055yoa9Se5U",
        "colab": {
          "base_uri": "https://localhost:8080/"
        },
        "outputId": "8b07806c-5b08-40f4-90d9-e1a6714d04cb"
      },
      "execution_count": 21,
      "outputs": [
        {
          "output_type": "stream",
          "name": "stdout",
          "text": [
            "313/313 [==============================] - 4s 12ms/step - loss: 0.9170 - accuracy: 0.6962\n"
          ]
        },
        {
          "output_type": "execute_result",
          "data": {
            "text/plain": [
              "[0.9169656038284302, 0.6962000131607056]"
            ]
          },
          "metadata": {},
          "execution_count": 21
        }
      ]
    },
    {
      "cell_type": "code",
      "source": [
        "y_pred = cnn.predict(X_test)\n",
        "y_pred[:5]"
      ],
      "metadata": {
        "id": "JBcMLDsjSe78",
        "colab": {
          "base_uri": "https://localhost:8080/"
        },
        "outputId": "35b98c2e-de40-4dae-9d9f-d6ef6d5f964c"
      },
      "execution_count": 22,
      "outputs": [
        {
          "output_type": "execute_result",
          "data": {
            "text/plain": [
              "array([[1.1632282e-02, 3.0770171e-03, 2.3890175e-03, 9.3771529e-01,\n",
              "        2.3916253e-04, 2.8671628e-02, 5.1234146e-03, 2.5964424e-05,\n",
              "        3.7176614e-03, 7.4086166e-03],\n",
              "       [4.7153840e-03, 1.3703720e-02, 3.6838287e-06, 5.1500365e-07,\n",
              "        4.8528307e-07, 5.3259348e-09, 3.3330707e-08, 1.5620566e-08,\n",
              "        9.7954845e-01, 2.0277607e-03],\n",
              "       [1.8101439e-02, 5.5111903e-01, 1.5822384e-03, 1.2351038e-03,\n",
              "        1.9425205e-03, 1.8767526e-04, 1.2297080e-03, 2.2303840e-04,\n",
              "        3.9487740e-01, 2.9501794e-02],\n",
              "       [3.5911942e-01, 3.4398653e-02, 6.1415724e-02, 7.0113625e-04,\n",
              "        4.8540361e-02, 2.3341894e-05, 2.5616857e-04, 1.2686224e-04,\n",
              "        4.9501488e-01, 4.0352528e-04],\n",
              "       [4.6522557e-05, 2.7555096e-04, 4.3750564e-03, 5.8529831e-02,\n",
              "        4.3579581e-01, 2.5047720e-03, 4.9846157e-01, 1.7507901e-06,\n",
              "        8.4634394e-06, 6.4016666e-07]], dtype=float32)"
            ]
          },
          "metadata": {},
          "execution_count": 22
        }
      ]
    },
    {
      "cell_type": "code",
      "source": [
        "y_classes = [np.argmax(element) for element in y_pred]\n",
        "y_classes[:5]  #comparing with y_test"
      ],
      "metadata": {
        "id": "k3TYt1x6Se-R",
        "colab": {
          "base_uri": "https://localhost:8080/"
        },
        "outputId": "bd9add73-297c-48ee-aae8-c1490617fc61"
      },
      "execution_count": 23,
      "outputs": [
        {
          "output_type": "execute_result",
          "data": {
            "text/plain": [
              "[3, 8, 1, 8, 6]"
            ]
          },
          "metadata": {},
          "execution_count": 23
        }
      ]
    },
    {
      "cell_type": "code",
      "source": [
        "y_test[:5]"
      ],
      "metadata": {
        "id": "QHNWjbFYSqOB",
        "colab": {
          "base_uri": "https://localhost:8080/"
        },
        "outputId": "fd7feb05-b301-4ac5-dbfe-09aa6ccc0b60"
      },
      "execution_count": 24,
      "outputs": [
        {
          "output_type": "execute_result",
          "data": {
            "text/plain": [
              "array([3, 8, 8, 0, 6], dtype=uint8)"
            ]
          },
          "metadata": {},
          "execution_count": 24
        }
      ]
    },
    {
      "cell_type": "code",
      "source": [
        "#Testing the Model\n",
        "plot_sample(X_test, y_test,15)"
      ],
      "metadata": {
        "id": "iMUgrA0rSqVw",
        "colab": {
          "base_uri": "https://localhost:8080/",
          "height": 173
        },
        "outputId": "62881dd4-5cd2-4ce3-d378-0a7b796d5999"
      },
      "execution_count": 25,
      "outputs": [
        {
          "output_type": "display_data",
          "data": {
            "text/plain": [
              "<Figure size 1080x144 with 1 Axes>"
            ],
            "image/png": "[encoded data removed]"
          },
          "metadata": {
            "needs_background": "light"
          }
        }
      ]
    },
    {
      "cell_type": "code",
      "source": [
        "classes[y_classes[9]]  #incorrect"
      ],
      "metadata": {
        "id": "q1oXEyytSqYd",
        "colab": {
          "base_uri": "https://localhost:8080/",
          "height": 36
        },
        "outputId": "f8bfa1f7-e66e-46ee-e438-20a4b22dd9b5"
      },
      "execution_count": 26,
      "outputs": [
        {
          "output_type": "execute_result",
          "data": {
            "text/plain": [
              "'automobile'"
            ],
            "application/vnd.google.colaboratory.intrinsic+json": {
              "type": "string"
            }
          },
          "metadata": {},
          "execution_count": 26
        }
      ]
    },
    {
      "cell_type": "code",
      "source": [
        "plot_sample(X_test, y_test,12)"
      ],
      "metadata": {
        "id": "j-mAhdqBSfA4",
        "colab": {
          "base_uri": "https://localhost:8080/",
          "height": 173
        },
        "outputId": "cb9fc7f8-3cba-4f4e-c054-6e6e4ef06cf4"
      },
      "execution_count": 27,
      "outputs": [
        {
          "output_type": "display_data",
          "data": {
            "text/plain": [
              "<Figure size 1080x144 with 1 Axes>"
            ],
            "image/png": "[encoded data removed]"
          },
          "metadata": {
            "needs_background": "light"
          }
        }
      ]
    },
    {
      "cell_type": "code",
      "source": [
        "classes[y_classes[12]]   #correct"
      ],
      "metadata": {
        "id": "9q9qF0nLSyMn",
        "colab": {
          "base_uri": "https://localhost:8080/",
          "height": 36
        },
        "outputId": "4615d60a-b5c6-4d54-e298-9dad85d70403"
      },
      "execution_count": 28,
      "outputs": [
        {
          "output_type": "execute_result",
          "data": {
            "text/plain": [
              "'deer'"
            ],
            "application/vnd.google.colaboratory.intrinsic+json": {
              "type": "string"
            }
          },
          "metadata": {},
          "execution_count": 28
        }
      ]
    }
  ]
}